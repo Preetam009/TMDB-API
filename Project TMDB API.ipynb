{
 "cells": [
  {
   "cell_type": "markdown",
   "id": "7d06ae6f",
   "metadata": {},
   "source": [
    "# TMDb 1.1\n",
    "\n",
    "Find the 'id' of the movie \"Andhadhun\" using TMDb API.<br><br>\n",
    "Output Format:<br><br>\n",
    "Print the id of the movie."
   ]
  },
  {
   "cell_type": "code",
   "execution_count": 1,
   "id": "2306e75b",
   "metadata": {},
   "outputs": [
    {
     "name": "stdout",
     "output_type": "stream",
     "text": [
      "534780\n"
     ]
    }
   ],
   "source": [
    "import requests\n",
    "api_key = \"b0a53d521764ab3bc5732e74a5cc06c9\"\n",
    "api_link = \"https://api.themoviedb.org/3\"\n",
    "params = {'query':\"Andhadhun\", 'api_key':api_key}\n",
    "header = {'Accept': 'application/json'}\n",
    "\n",
    "\n",
    "\n",
    "response = requests.get(api_link + \"/search/movie\", headers = header, params=params)\n",
    "data = response.json()\n",
    "results = data.get('results')\n",
    "for result in results:\n",
    "    if result.get('title') == 'Andhadhun':\n",
    "        print(result.get('id'))"
   ]
  },
  {
   "cell_type": "markdown",
   "id": "dbb5452f",
   "metadata": {},
   "source": [
    "# TMDb 1.2\n",
    "\n",
    "Fetch the company id company 'Marvel Studios' using TMDb. Print the id."
   ]
  },
  {
   "cell_type": "code",
   "execution_count": 2,
   "id": "3290df06",
   "metadata": {},
   "outputs": [
    {
     "name": "stdout",
     "output_type": "stream",
     "text": [
      "420\n"
     ]
    }
   ],
   "source": [
    "import requests\n",
    "api_key = \"b0a53d521764ab3bc5732e74a5cc06c9\"\n",
    "api_link = \"https://api.themoviedb.org/3\"\n",
    "params = {'query':\"Marvel Studios\", 'api_key':api_key}\n",
    "header = {'Accept': 'application/json'}\n",
    "\n",
    "\n",
    "\n",
    "response = requests.get(api_link + \"/search/company\", headers = header, params=params)\n",
    "data = response.json()\n",
    "results = data.get('results')\n",
    "for result in results:\n",
    "    if result.get('name') == 'Marvel Studios':\n",
    "        print(result.get('id'))"
   ]
  },
  {
   "cell_type": "markdown",
   "id": "7b0ef225",
   "metadata": {},
   "source": [
    "# TMDb 1.3\n",
    "\n",
    "Find the vote count and vote average of the movie \"3 Idiots\" using the TMDb API<br><br>\n",
    "Output format: Vote Count , Vote Average\n",
    "\n"
   ]
  },
  {
   "cell_type": "code",
   "execution_count": 3,
   "id": "8007ffd6",
   "metadata": {},
   "outputs": [
    {
     "name": "stdout",
     "output_type": "stream",
     "text": [
      "2117 , 7.993\n"
     ]
    }
   ],
   "source": [
    "import requests\n",
    "import json\n",
    "# Write your code here 76baade64b4bc88549f89b16c3c447f3\n",
    "url = 'https://api.themoviedb.org/3/search/movie'\n",
    "params = {'api_key': \"76baade64b4bc88549f89b16c3c447f3\",'query': \"3 Idiots\"}\n",
    "response = requests.get(url, params=params)\n",
    "# print(response.url)\n",
    "python_data = response.json()\n",
    "topics=python_data[\"results\"]\n",
    "for i in topics:\n",
    "    print(i[\"vote_count\"],end=\" , \")\n",
    "    print(i[\"vote_average\"])"
   ]
  },
  {
   "cell_type": "markdown",
   "id": "f38721f6",
   "metadata": {},
   "source": [
    "# TMDb 1.4\n",
    "\n",
    "Fetch the names of top 5 similar movies to 'Inception' from the TMDb API.<br><br>\n",
    "Note<br><br>\n",
    "While fetching the movie id, use the \"original_title\" field not the \"title\". Because the \"title\" field may contain duplicate values.<br><br>\n",
    "Output Format:<br><br>\n",
    "Print the name of the movies in a new line.<br>\n",
    "movie_name_1<br>\n",
    "movie_name_2<br>\n",
    "and so on"
   ]
  },
  {
   "cell_type": "code",
   "execution_count": 4,
   "id": "c49c11d4",
   "metadata": {},
   "outputs": [
    {
     "name": "stdout",
     "output_type": "stream",
     "text": [
      "Richard Meier\n",
      "Nine\n",
      "Around the World in 80 Days\n",
      "Species II\n",
      "A Simple Plan\n"
     ]
    }
   ],
   "source": [
    "import requests\n",
    "api_key = \"e226f4a5f5bace766952aa0d17182959\" \n",
    "api_link = \"https://api.themoviedb.org/3\" \n",
    "params = {'query':\"Inception\", 'api_key':api_key}\n",
    "header = {'Accept': 'application/json'}\n",
    "response = requests.get(api_link + \"/search/movie\", headers = header, params=params)\n",
    "data = response.json()\n",
    "results = data.get('results')\n",
    "for result in results:\n",
    "    if result.get('title') == 'Inception':\n",
    "       id = result.get('id')\n",
    "params2 = {'api_key':api_key}\n",
    "response2 = requests.get(api_link + \"/movie/\" + str(id) + \"/similar\", headers = header, params=params2)\n",
    "data2 = response2.json()\n",
    "results2 = data2.get('results')\n",
    "for result in results2[:5]:\n",
    "    print(result.get(\"title\"))"
   ]
  },
  {
   "cell_type": "markdown",
   "id": "38e86ccb",
   "metadata": {},
   "source": [
    "# TMDb 1.5\n",
    "\n",
    "Fetch the top rated english movies in the US region using the TMDb API. From the result, print the first 10 movies which have original language as english. Also print their genres.<br><br>\n",
    "Note: Do not use the search/movies API for finding genres.<br><br>\n",
    "Output Format:<br><br>\n",
    "movie_name_1 - genre_1, genre_2 ....<br>\n",
    "and so on.."
   ]
  },
  {
   "cell_type": "code",
   "execution_count": 5,
   "id": "6e65668d",
   "metadata": {},
   "outputs": [
    {
     "name": "stdout",
     "output_type": "stream",
     "text": [
      "The Godfather - Drama, Crime, \n",
      "The Shawshank Redemption - Drama, Crime, \n",
      "The Godfather Part II - Drama, Crime, \n",
      "Schindler's List - Drama, History, War, \n",
      "12 Angry Men - Drama, \n",
      "The Dark Knight - Drama, Action, Crime, Thriller, \n",
      "The Green Mile - Fantasy, Drama, Crime, \n",
      "Spider-Man: Across the Spider-Verse - Action, Adventure, Animation, Science Fiction, \n",
      "Pulp Fiction - Thriller, Crime, \n",
      "Forrest Gump - Comedy, Drama, Romance, \n"
     ]
    }
   ],
   "source": [
    "import requests\n",
    "api_key = \"e226f4a5f5bace766952aa0d17182959\" \n",
    "api_link = \"https://api.themoviedb.org/3\" #/movie/top_rated/apikey = \n",
    "header = {'Accept': 'application/json'} \n",
    "params = {'api_key':api_key, 'region':'US'} \n",
    "response = requests.get(api_link + \"/movie/top_rated\", headers = header, params = params) \n",
    "\n",
    "\n",
    "data = response.json() \n",
    "results = data.get('results') \n",
    "title_array = [] \n",
    "genre_id_array = [] \n",
    "for result in results: \n",
    "    if result.get('original_language') == 'en': \n",
    "        title_array.append(result.get('title')) \n",
    "        genre_id_array.append(result.get('genre_ids')) \n",
    "        \n",
    "# To get the genre name corresponding to genre_id \n",
    "response2 = requests.get(api_link + \"/genre/movie/list\", headers = header, params = params) \n",
    "data2 = response2.json() \n",
    "genres = data2.get('genres') \n",
    "mapping = {} \n",
    "for genre in genres: \n",
    "    mapping[genre.get('id')] = genre.get('name') \n",
    "    \n",
    "for i in range(10): \n",
    "    print(title_array[i], \"-\", end=\" \") \n",
    "    for id in genre_id_array[i]: \n",
    "        print(mapping.get(id), end = \", \") \n",
    "    print()"
   ]
  },
  {
   "cell_type": "markdown",
   "id": "22d39823",
   "metadata": {},
   "source": [
    "# TMDb 2.1\n",
    "\n",
    "Find the name and birthplace of the present most popular person according to TMDb API.<br><br>\n",
    "Output Format:<br><br>\n",
    "id<br>\n",
    "name - birthplace"
   ]
  },
  {
   "cell_type": "code",
   "execution_count": 6,
   "id": "218c4821",
   "metadata": {},
   "outputs": [
    {
     "name": "stdout",
     "output_type": "stream",
     "text": [
      "3030323\n",
      "Nakhun Screaigh - Thailand\n"
     ]
    }
   ],
   "source": [
    "import requests\n",
    "# Write your code here\n",
    "api_key = \"b0a53d521764ab3bc5732e74a5cc06c9\"\n",
    "api_link = \"https://api.themoviedb.org/3\"\n",
    "params = {'api_key':api_key}\n",
    "header = {'Accept': 'application/json'}\n",
    "response2 = requests.get(api_link + \"/person/\"+str(3030323), headers = header, params=params)\n",
    "data=response2.text\n",
    "data=response2.json()\n",
    "print(3030323)\n",
    "print(data['name'],\"-\",data['place_of_birth'])"
   ]
  },
  {
   "cell_type": "markdown",
   "id": "379e245b",
   "metadata": {},
   "source": [
    "# TMDb 2.2\n",
    "\n",
    "Fetch the Instagram and Twitter handle of Indian Actress \"Alia Bhatt\" from the TMDb API.<br><br>\n",
    "Output Format <br><br>\n",
    "Print the Instagram and Twitter IDs space separated.<br>\n",
    "instagram_id twitter_id\n"
   ]
  },
  {
   "cell_type": "code",
   "execution_count": 7,
   "id": "d9881779",
   "metadata": {},
   "outputs": [
    {
     "name": "stdout",
     "output_type": "stream",
     "text": [
      "aliaabhatt  Aliaa08\n"
     ]
    }
   ],
   "source": [
    "import requests\n",
    "api_key = \"b0a53d521764ab3bc5732e74a5cc06c9\"\n",
    "api_link = \"https://api.themoviedb.org/3\"\n",
    "params = {'api_key':api_key}\n",
    "header = {'Accept': 'application/json'}\n",
    "response2 = requests.get(api_link + \"/person/\"+str(1108120)+\"/external_ids\", headers = header, params=params)\n",
    "data=response2.json()\n",
    "print(data['instagram_id'],'',data['twitter_id'])"
   ]
  },
  {
   "cell_type": "markdown",
   "id": "4d506877",
   "metadata": {},
   "source": [
    "# TMDb 2.3\n",
    "\n",
    "Fetch the names of the character played by Tom Cruise in the movies:<br><br>\n",
    "Top Gun <br>\n",
    "Mission: Impossible - Fallout <br>\n",
    "Minority Report <br>\n",
    "Edge of Tomorrow <br><br>\n",
    "Output Format:<br><br>\n",
    "Print the names of the characters played by Tom Cruise line separated, in the respective order given in question."
   ]
  },
  {
   "cell_type": "code",
   "execution_count": 8,
   "id": "4754891b",
   "metadata": {},
   "outputs": [
    {
     "name": "stdout",
     "output_type": "stream",
     "text": [
      "Lt. Pete 'Maverick' Mitchell\n",
      "Ethan Hunt\n",
      "Chief John Anderton\n",
      "Maj. William 'Bill' Cage\n"
     ]
    }
   ],
   "source": [
    "import requests\n",
    "api_key = \"b0a53d521764ab3bc5732e74a5cc06c9\"\n",
    "api_link = \"https://api.themoviedb.org/3\"\n",
    "params = {'api_key':api_key,'query':'Tom Cruise'}\n",
    "header = {'Accept': 'application/json'}\n",
    "response2 = requests.get(api_link + \"/person/\"+str(500)+\"/movie_credits\", headers = header, params=params)\n",
    "data=response2.json()\n",
    "for result in data['cast']:\n",
    "    if result['title']=='Top Gun':\n",
    "        print(result['character'],)\n",
    "for result in data['cast']:\n",
    "    if result['title']=='Mission: Impossible - Fallout':\n",
    "        print(result['character'])\n",
    "for result in data['cast']:\n",
    "    if result['title']=='Minority Report':\n",
    "        print(result['character'])\n",
    "for result in data['cast']:\n",
    "    if result['title']=='Edge of Tomorrow':\n",
    "        print(result['character'])"
   ]
  },
  {
   "cell_type": "markdown",
   "id": "7f9bca8e",
   "metadata": {},
   "source": [
    "# TMDb 2.4\n",
    "\n",
    "Did James McAvoy play a role in the movie Deadpool 2. Print Yes or No.\n"
   ]
  },
  {
   "cell_type": "code",
   "execution_count": 9,
   "id": "0431aec0",
   "metadata": {},
   "outputs": [
    {
     "name": "stdout",
     "output_type": "stream",
     "text": [
      "5530 James McAvoy\n",
      "2147941 Helen McAvoy-James\n"
     ]
    }
   ],
   "source": [
    "import requests\n",
    "api_key = \"b0a53d521764ab3bc5732e74a5cc06c9\"\n",
    "api_link = \"https://api.themoviedb.org/3\"\n",
    "params = {'api_key':api_key,'query':'James McAvoy'}\n",
    "header = {'Accept': 'application/json'}\n",
    "response2 = requests.get(api_link + \"/search/person\", headers = header, params=params)\n",
    "data=response2.json()\n",
    "result2=data.get('results')\n",
    "for result in result2:\n",
    "    print(result.get('id'),result.get('name'))"
   ]
  },
  {
   "cell_type": "code",
   "execution_count": 10,
   "id": "e84f6829",
   "metadata": {},
   "outputs": [
    {
     "name": "stdout",
     "output_type": "stream",
     "text": [
      "Yes\n"
     ]
    }
   ],
   "source": [
    "import requests\n",
    "api_key = \"b0a53d521764ab3bc5732e74a5cc06c9\"\n",
    "api_link = \"https://api.themoviedb.org/3\"\n",
    "params = {'api_key':api_key,'query':'Deadpool 2'}\n",
    "header = {'Accept': 'application/json'}\n",
    "response2 = requests.get(api_link + \"/person/\"+str(5530)+\"/movie_credits\", headers = header, params=params)\n",
    "data=response2.json()\n",
    "for result in data['cast']:\n",
    "    if result['title']=='Deadpool 2':\n",
    "        a=result['title']\n",
    "        if a=='Deadpool 2':\n",
    "            print('Yes')\n",
    "        else:\n",
    "            print('No')"
   ]
  },
  {
   "cell_type": "markdown",
   "id": "dc999aff",
   "metadata": {},
   "source": [
    "# TMDb 2.5\n",
    "\n",
    "Using the result obtained in previous question, find out if James McAvoy was credited for his role in movie Deadpool 2. Print Yes or No."
   ]
  },
  {
   "cell_type": "code",
   "execution_count": 11,
   "id": "9cb2d91d",
   "metadata": {},
   "outputs": [
    {
     "name": "stdout",
     "output_type": "stream",
     "text": [
      "No\n"
     ]
    }
   ],
   "source": [
    "import requests\n",
    "api_key = \"b0a53d521764ab3bc5732e74a5cc06c9\"\n",
    "api_link = \"https://api.themoviedb.org/3\"\n",
    "params = {'api_key':api_key,}\n",
    "header = {'Accept': 'application/json'}\n",
    "response2 = requests.get(api_link + \"/person/\"+str(5530)+\"/movie_credits\", headers = header, params=params)\n",
    "data=response2.json()\n",
    "for result in data['cast']:\n",
    "    if result['title']=='Deadpool 2':\n",
    "        a=result['character']\n",
    "        print('No')"
   ]
  },
  {
   "cell_type": "markdown",
   "id": "0b1e5ccd",
   "metadata": {},
   "source": [
    "# TMDb 3.1\n",
    "\n",
    "Fetch the overview of the TV Show \"FRIENDS\" using TMDb API.<br><br>\n",
    "Output Format:<br><br>\n",
    "Print the Overview."
   ]
  },
  {
   "cell_type": "code",
   "execution_count": 12,
   "id": "b1096918",
   "metadata": {},
   "outputs": [
    {
     "name": "stdout",
     "output_type": "stream",
     "text": [
      "Six young people from New York City, on their own and struggling to survive in the real world, find the companionship, comfort and support they get from each other to be the perfect antidote to the pressures of life.\n",
      "Friends is a short-lived kids-oriented drama that aired in the spring of 1979. The series, which was produced by Aaron Spelling and aired on ABC, starred Charlie Aiken, Jill Whelan, and Jarrod Johnson as three Southern Californian 11-year-olds. Karen Morrow also appeared. Only five one-hour episodes were produced before the series was cancelled.\n",
      "\n"
     ]
    }
   ],
   "source": [
    "import requests\n",
    "api_key = \"b0a53d521764ab3bc5732e74a5cc06c9\"\n",
    "api_link = \"https://api.themoviedb.org/3\"\n",
    "params = {'api_key':api_key,'query':'Friends'}\n",
    "header = {'Accept': 'application/json'}\n",
    "response2 = requests.get(api_link + \"/search/tv\", headers = header, params=params)\n",
    "data=response2.json()\n",
    "results=data.get('results')\n",
    "for result in results:\n",
    "    if result.get('name')=='Friends':\n",
    "        print(result.get('overview'))"
   ]
  },
  {
   "cell_type": "markdown",
   "id": "be3066e6",
   "metadata": {},
   "source": [
    "# TMDb 3.2\n",
    "\n",
    "Fetch the name and air date of S06E05 of the TV Show 'The Big Bang Theory' from TMDb API.<br><br>\n",
    "Output Format:<br><br>\n",
    "episode_name - air_date"
   ]
  },
  {
   "cell_type": "code",
   "execution_count": 13,
   "id": "5b968551",
   "metadata": {},
   "outputs": [
    {
     "name": "stdout",
     "output_type": "stream",
     "text": [
      "The Holographic Excitation - 2012-10-25\n"
     ]
    }
   ],
   "source": [
    "import requests\n",
    "api_key = \"b0a53d521764ab3bc5732e74a5cc06c9\"\n",
    "api_link = \"https://api.themoviedb.org/3\"\n",
    "params = {'api_key':api_key,'query':'The Big Bang Theory'}\n",
    "header = {'Accept': 'application/json'}\n",
    "response2 = requests.get(api_link + \"/tv/\"+str(1418)+\"/season/\"+str(6)+\"/episode/\"+str(5), headers = header, params=params)\n",
    "data=response2.json()\n",
    "print(data['name'],\"-\",data['air_date'])"
   ]
  },
  {
   "cell_type": "markdown",
   "id": "0d5781a3",
   "metadata": {},
   "source": [
    "# TMDb 3.3\n",
    "\n",
    "Fetch the trending TV Shows for the week from the TMDb API and print the taglines of the top 5 shows. If there is no tagline, print 'Empty' instead<br><br>\n",
    "Output Format:<br><br>\n",
    "Print the taglines in new line."
   ]
  },
  {
   "cell_type": "code",
   "execution_count": 14,
   "id": "b119b1bb",
   "metadata": {},
   "outputs": [
    {
     "name": "stdout",
     "output_type": "stream",
     "text": [
      "Who do you trust?\n",
      "A boy fights... for \"the right death.\"\n",
      "All empires fall.\n",
      "Empty\n",
      "Empty\n"
     ]
    }
   ],
   "source": [
    "import requests \n",
    "api_key = \"e226f4a5f5bace766952aa0d17182959\" \n",
    "api_link = \"https://api.themoviedb.org/3\" \n",
    "params = {'api_key':api_key} \n",
    "header = {'Accept': 'application/json'} \n",
    "response = requests.get(api_link + \"/trending/tv/week\", headers = header, params = params) \n",
    "data = response.json() \n",
    "results = data.get(\"results\") \n",
    "ids=[] \n",
    "for result in results[:5]: \n",
    "    ids.append(result.get(\"id\")) \n",
    "    \n",
    "for id in ids: \n",
    "    response2 = requests.get(api_link + \"/tv/\" + str(id) , headers = header, params = params) \n",
    "    data2 = response2.json() \n",
    "    if (data2.get(\"tagline\")) != \"\": \n",
    "        print(data2.get(\"tagline\")) \n",
    "    else: \n",
    "        print('Empty')"
   ]
  },
  {
   "cell_type": "markdown",
   "id": "9279abbc",
   "metadata": {},
   "source": [
    "# TMDb 3.4\n",
    "\n",
    "Print the names of all the TV shows to be aired today whose original language is english.<br><br>\n",
    "Output Format:<br><br>\n",
    "Print the name of each TV show in a new line."
   ]
  },
  {
   "cell_type": "code",
   "execution_count": 15,
   "id": "e60a59d8",
   "metadata": {
    "scrolled": true
   },
   "outputs": [
    {
     "name": "stdout",
     "output_type": "stream",
     "text": [
      "Hijack\n",
      "Love Island\n",
      "Love Island\n",
      "Emmerdale\n",
      "Hollyoaks\n",
      "PBS NewsHour\n",
      "Justified: City Primeval\n",
      "General Hospital\n",
      "Naked News\n",
      "Days of Our Lives\n",
      "Shortland Street\n",
      "House Hunters\n",
      "EastEnders\n",
      "Home and Away\n",
      "WWE NXT\n",
      "Honest Trailers\n",
      "Chopped\n",
      "Watch What Happens Live with Andy Cohen\n",
      "The Patrick Star Show\n",
      "America's Got Talent\n",
      "Storage Wars\n",
      "The Afterparty\n",
      "The Ultimate Fighter\n",
      "LIVE with Kelly and Mark\n",
      "The Secret of Skinwalker Ranch\n",
      "Hunted\n",
      "The Sixth Commandment\n",
      "Love & Hip Hop Atlanta\n",
      "The ReidOut\n",
      "The Golden Boy\n",
      "The View\n",
      "Dark Side of the Ring\n",
      "Alex Wagner Tonight\n",
      "Work It Out Wombats!\n",
      "Shark Week\n",
      "The Amazing Race Canada\n",
      "The Great Australian Bake Off\n",
      "OutDaughtered\n",
      "Body Cam\n",
      "Hey Yahoo!\n",
      "Rush\n",
      "Bake Off: The Professionals\n",
      "Primal Survivor: Extreme African Safari\n",
      "Dark Side of the 2000s\n",
      "Supermarket Stakeout\n",
      "Beyond Skinwalker Ranch\n",
      "Secrets of the London Underground\n",
      "New Leash on Life\n",
      "Caught in the Act: Unfaithful\n",
      "Million Dollar Island\n",
      "Iconic America: Our Symbols and Stories With David Rubenstein\n",
      "High Speed Chase\n",
      "War on Waste\n",
      "Hot Wheels: Ultimate Challenge\n",
      "Cooking With the Stars\n",
      "Duck Family Treasure\n",
      "Your Home Made Perfect\n",
      "Southern Storytellers\n",
      "Hunted Australia\n",
      "Rachael Ray\n",
      "Doubling Down with the Derricos\n",
      "Hot Bench\n",
      "Customer Wars\n",
      "Split Second\n",
      "The Cheap Seats\n",
      "Stories From The National Portrait Gallery\n",
      "僕らのGalileo Galilei〜会えたね〜\n",
      "Alex's Food Reviews\n"
     ]
    }
   ],
   "source": [
    "import requests as rq\n",
    "page_num = 1\n",
    "api_key = 'e226f4a5f5bace766952aa0d17182959'\n",
    "api_link = 'https://api.themoviedb.org/3'\n",
    "header = {'Accept':'application/json'}\n",
    "params = {'language':'en','api_key':api_key}\n",
    "r = rq.get(api_link+'/tv/airing_today',headers = header,params = params)\n",
    "data = r.json()\n",
    "# print(data)\n",
    "res = data['results']\n",
    "page_num = data.get('total_pages')\n",
    "# print(page_num)\n",
    "for i in range(1,page_num + 1):\n",
    "    params = {'language':\"en\",'api_key':api_key,'page':i}\n",
    "    r = rq.get(api_link+'/tv/airing_today',headers = header,params = params)\n",
    "    data = r.json()\n",
    "    results = data.get('results')\n",
    "    for r in results:\n",
    "        if r['original_language'] == 'en':\n",
    "            print(r['name'])"
   ]
  },
  {
   "cell_type": "markdown",
   "id": "0868e6a0",
   "metadata": {},
   "source": [
    "# TMDb 3.5\n",
    "\n",
    "Count the number of males and females in the cast of \"Money Heist\" using the TMDb API.<br><br>\n",
    "Output Format:<br><br>\n",
    "Print the count of male and female space separated.\n",
    "male_count female_count"
   ]
  },
  {
   "cell_type": "code",
   "execution_count": null,
   "id": "db15c430",
   "metadata": {},
   "outputs": [],
   "source": [
    "import requests\n",
    "## Write your code here\n",
    "api_key = \"e226f4a5f5bace766952aa0d17182959\" \n",
    "api_link = \"https://api.themoviedb.org/3\" \n",
    "params = {'query':'Money Heist','api_key':api_key} \n",
    "header = {'Accept': 'application/json'} \n",
    "response = requests.get(api_link + '/search/tv/', headers = header, params = params) \n",
    "data = response.json() \n",
    "result=data.get('results')\n",
    "for i in result:\n",
    "    if i.get('name')=='Money Heist':\n",
    "        id=i.get('id')    \n",
    "params1={'id':id,'api_key':api_key}\n",
    "response1 = requests.get(api_link + '/tv/' + str(id) + '/credits', headers = header, params = params1) \n",
    "data1 = response1.json() \n",
    "cast=data1.get('cast')\n",
    "count_male=0\n",
    "count_female=0\n",
    "for c in cast:\n",
    "    if c.get('gender')==1:\n",
    "        count_female+=1\n",
    "    if c.get('gender')==2:\n",
    "        count_male+=1\n",
    "print(count_male,count_female)"
   ]
  }
 ],
 "metadata": {
  "kernelspec": {
   "display_name": "Python 3 (ipykernel)",
   "language": "python",
   "name": "python3"
  },
  "language_info": {
   "codemirror_mode": {
    "name": "ipython",
    "version": 3
   },
   "file_extension": ".py",
   "mimetype": "text/x-python",
   "name": "python",
   "nbconvert_exporter": "python",
   "pygments_lexer": "ipython3",
   "version": "3.9.13"
  }
 },
 "nbformat": 4,
 "nbformat_minor": 5
}
